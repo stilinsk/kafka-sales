{
 "cells": [
  {
   "cell_type": "markdown",
   "id": "9475820a-6adb-4c47-90fd-d3a264b1da5f",
   "metadata": {},
   "source": [
    "### BATCH PROCESSING"
   ]
  },
  {
   "cell_type": "code",
   "execution_count": 1,
   "id": "cb49418c-c2de-4008-98f9-0897c1d69339",
   "metadata": {},
   "outputs": [],
   "source": [
    "import pandas as pd"
   ]
  },
  {
   "cell_type": "code",
   "execution_count": 3,
   "id": "2b314c69-b7c8-4eb9-a687-317601350c3c",
   "metadata": {},
   "outputs": [
    {
     "name": "stdout",
     "output_type": "stream",
     "text": [
      "Collecting pyspark\n",
      "  Downloading pyspark-3.5.1.tar.gz (317.0 MB)\n",
      "\u001b[2K     \u001b[38;2;114;156;31m━━━━━━━━━━━━━━━━━━━━━━━━━━━━━━━━━━━━━━━\u001b[0m \u001b[32m317.0/317.0 MB\u001b[0m \u001b[31m1.5 MB/s\u001b[0m eta \u001b[36m0:00:00\u001b[0mm eta \u001b[36m0:00:01\u001b[0m[36m0:00:04\u001b[0m\n",
      "\u001b[?25h  Preparing metadata (setup.py) ... \u001b[?25ldone\n",
      "\u001b[?25hCollecting py4j==0.10.9.7 (from pyspark)\n",
      "  Downloading py4j-0.10.9.7-py2.py3-none-any.whl.metadata (1.5 kB)\n",
      "Downloading py4j-0.10.9.7-py2.py3-none-any.whl (200 kB)\n",
      "\u001b[2K   \u001b[38;2;114;156;31m━━━━━━━━━━━━━━━━━━━━━━━━━━━━━━━━━━━━━━━\u001b[0m \u001b[32m200.5/200.5 kB\u001b[0m \u001b[31m646.7 kB/s\u001b[0m eta \u001b[36m0:00:00\u001b[0m31m2.8 MB/s\u001b[0m eta \u001b[36m0:00:01\u001b[0m\n",
      "\u001b[?25hBuilding wheels for collected packages: pyspark\n",
      "  Building wheel for pyspark (setup.py) ... \u001b[?25ldone\n",
      "\u001b[?25h  Created wheel for pyspark: filename=pyspark-3.5.1-py2.py3-none-any.whl size=317488491 sha256=ffd0508ab6304ff41438481579466990f1facff47cdf3b16f06e9f6bf152bacb\n",
      "  Stored in directory: /home/stilinski/.cache/pip/wheels/95/13/41/f7f135ee114175605fb4f0a89e7389f3742aa6c1e1a5bcb657\n",
      "Successfully built pyspark\n",
      "Installing collected packages: py4j, pyspark\n",
      "Successfully installed py4j-0.10.9.7 pyspark-3.5.1\n",
      "Note: you may need to restart the kernel to use updated packages.\n"
     ]
    }
   ],
   "source": [
    "pip install pyspark\n"
   ]
  },
  {
   "cell_type": "code",
   "execution_count": 4,
   "id": "af658b16-6359-4844-88ed-c28ac76ddbe4",
   "metadata": {},
   "outputs": [],
   "source": [
    "import pyspark"
   ]
  },
  {
   "cell_type": "code",
   "execution_count": 5,
   "id": "96afa1e3-3a2b-47e5-ac97-0b9f15acca42",
   "metadata": {},
   "outputs": [],
   "source": [
    "df=pd.read_csv(\"order_items.csv\")"
   ]
  },
  {
   "cell_type": "code",
   "execution_count": 7,
   "id": "56d1bfa3-1ba9-4882-861c-59c3769d0d2f",
   "metadata": {},
   "outputs": [],
   "source": [
    "df1= pd.read_csv(\"products.csv\")"
   ]
  },
  {
   "cell_type": "code",
   "execution_count": 8,
   "id": "f6ebebc5-bb3a-48cd-a148-adb8110fc817",
   "metadata": {},
   "outputs": [
    {
     "data": {
      "text/html": [
       "<div>\n",
       "<style scoped>\n",
       "    .dataframe tbody tr th:only-of-type {\n",
       "        vertical-align: middle;\n",
       "    }\n",
       "\n",
       "    .dataframe tbody tr th {\n",
       "        vertical-align: top;\n",
       "    }\n",
       "\n",
       "    .dataframe thead th {\n",
       "        text-align: right;\n",
       "    }\n",
       "</style>\n",
       "<table border=\"1\" class=\"dataframe\">\n",
       "  <thead>\n",
       "    <tr style=\"text-align: right;\">\n",
       "      <th></th>\n",
       "      <th>OrderItemID</th>\n",
       "      <th>OrderID</th>\n",
       "      <th>ProductID</th>\n",
       "      <th>Quantity</th>\n",
       "      <th>PricePerUnit</th>\n",
       "    </tr>\n",
       "  </thead>\n",
       "  <tbody>\n",
       "    <tr>\n",
       "      <th>0</th>\n",
       "      <td>5001</td>\n",
       "      <td>2001</td>\n",
       "      <td>1001</td>\n",
       "      <td>2</td>\n",
       "      <td>10.99</td>\n",
       "    </tr>\n",
       "    <tr>\n",
       "      <th>1</th>\n",
       "      <td>5002</td>\n",
       "      <td>2001</td>\n",
       "      <td>1004</td>\n",
       "      <td>1</td>\n",
       "      <td>25.99</td>\n",
       "    </tr>\n",
       "    <tr>\n",
       "      <th>2</th>\n",
       "      <td>5003</td>\n",
       "      <td>2002</td>\n",
       "      <td>1003</td>\n",
       "      <td>3</td>\n",
       "      <td>8.99</td>\n",
       "    </tr>\n",
       "    <tr>\n",
       "      <th>3</th>\n",
       "      <td>5004</td>\n",
       "      <td>2003</td>\n",
       "      <td>1002</td>\n",
       "      <td>1</td>\n",
       "      <td>15.49</td>\n",
       "    </tr>\n",
       "    <tr>\n",
       "      <th>4</th>\n",
       "      <td>5005</td>\n",
       "      <td>2003</td>\n",
       "      <td>1005</td>\n",
       "      <td>2</td>\n",
       "      <td>12.99</td>\n",
       "    </tr>\n",
       "  </tbody>\n",
       "</table>\n",
       "</div>"
      ],
      "text/plain": [
       "   OrderItemID  OrderID  ProductID  Quantity  PricePerUnit\n",
       "0         5001     2001       1001         2         10.99\n",
       "1         5002     2001       1004         1         25.99\n",
       "2         5003     2002       1003         3          8.99\n",
       "3         5004     2003       1002         1         15.49\n",
       "4         5005     2003       1005         2         12.99"
      ]
     },
     "execution_count": 8,
     "metadata": {},
     "output_type": "execute_result"
    }
   ],
   "source": [
    "df.head()"
   ]
  },
  {
   "cell_type": "code",
   "execution_count": 9,
   "id": "ad7e85be-1373-420e-a1e7-e52f8c7a38e3",
   "metadata": {},
   "outputs": [
    {
     "data": {
      "text/html": [
       "<div>\n",
       "<style scoped>\n",
       "    .dataframe tbody tr th:only-of-type {\n",
       "        vertical-align: middle;\n",
       "    }\n",
       "\n",
       "    .dataframe tbody tr th {\n",
       "        vertical-align: top;\n",
       "    }\n",
       "\n",
       "    .dataframe thead th {\n",
       "        text-align: right;\n",
       "    }\n",
       "</style>\n",
       "<table border=\"1\" class=\"dataframe\">\n",
       "  <thead>\n",
       "    <tr style=\"text-align: right;\">\n",
       "      <th></th>\n",
       "      <th>ProductID</th>\n",
       "      <th>Name</th>\n",
       "      <th>Description</th>\n",
       "      <th>Price</th>\n",
       "      <th>Category</th>\n",
       "    </tr>\n",
       "  </thead>\n",
       "  <tbody>\n",
       "    <tr>\n",
       "      <th>0</th>\n",
       "      <td>1001</td>\n",
       "      <td>Widget A</td>\n",
       "      <td>High-quality widget for various uses</td>\n",
       "      <td>10.99</td>\n",
       "      <td>Widgets</td>\n",
       "    </tr>\n",
       "    <tr>\n",
       "      <th>1</th>\n",
       "      <td>1002</td>\n",
       "      <td>Gadget Pro</td>\n",
       "      <td>Advanced gadget with multiple features</td>\n",
       "      <td>15.49</td>\n",
       "      <td>Gadgets</td>\n",
       "    </tr>\n",
       "    <tr>\n",
       "      <th>2</th>\n",
       "      <td>1003</td>\n",
       "      <td>Widget B</td>\n",
       "      <td>Economical widget option</td>\n",
       "      <td>8.99</td>\n",
       "      <td>Widgets</td>\n",
       "    </tr>\n",
       "    <tr>\n",
       "      <th>3</th>\n",
       "      <td>1004</td>\n",
       "      <td>Toolset X</td>\n",
       "      <td>Comprehensive toolset for DIY enthusiasts</td>\n",
       "      <td>25.99</td>\n",
       "      <td>Tools</td>\n",
       "    </tr>\n",
       "    <tr>\n",
       "      <th>4</th>\n",
       "      <td>1005</td>\n",
       "      <td>Gadget Basic</td>\n",
       "      <td>Basic version of our popular gadget</td>\n",
       "      <td>12.99</td>\n",
       "      <td>Gadgets</td>\n",
       "    </tr>\n",
       "  </tbody>\n",
       "</table>\n",
       "</div>"
      ],
      "text/plain": [
       "   ProductID          Name                                Description  Price  \\\n",
       "0       1001      Widget A       High-quality widget for various uses  10.99   \n",
       "1       1002    Gadget Pro     Advanced gadget with multiple features  15.49   \n",
       "2       1003      Widget B                   Economical widget option   8.99   \n",
       "3       1004     Toolset X  Comprehensive toolset for DIY enthusiasts  25.99   \n",
       "4       1005  Gadget Basic        Basic version of our popular gadget  12.99   \n",
       "\n",
       "  Category  \n",
       "0  Widgets  \n",
       "1  Gadgets  \n",
       "2  Widgets  \n",
       "3    Tools  \n",
       "4  Gadgets  "
      ]
     },
     "execution_count": 9,
     "metadata": {},
     "output_type": "execute_result"
    }
   ],
   "source": [
    "df1.head()"
   ]
  },
  {
   "cell_type": "code",
   "execution_count": 10,
   "id": "459d876f-b0be-481c-a2fd-c6bad5c50342",
   "metadata": {},
   "outputs": [],
   "source": [
    "from pyspark.sql import SparkSession"
   ]
  },
  {
   "cell_type": "code",
   "execution_count": 11,
   "id": "d6b1d6ca-ebbc-4559-8741-be41dc55fba9",
   "metadata": {},
   "outputs": [
    {
     "name": "stderr",
     "output_type": "stream",
     "text": [
      "24/06/30 07:02:50 WARN Utils: Your hostname, stilinski-HP-EliteBook-x360-1030-G2 resolves to a loopback address: 127.0.1.1; using 192.168.58.163 instead (on interface wlp58s0)\n",
      "24/06/30 07:02:50 WARN Utils: Set SPARK_LOCAL_IP if you need to bind to another address\n",
      "Setting default log level to \"WARN\".\n",
      "To adjust logging level use sc.setLogLevel(newLevel). For SparkR, use setLogLevel(newLevel).\n",
      "24/06/30 07:03:01 WARN NativeCodeLoader: Unable to load native-hadoop library for your platform... using builtin-java classes where applicable\n",
      "24/06/30 07:03:02 WARN Utils: Service 'SparkUI' could not bind on port 4040. Attempting port 4041.\n"
     ]
    }
   ],
   "source": [
    "spark =SparkSession.builder.appName(\"sales\").getOrCreate()"
   ]
  },
  {
   "cell_type": "code",
   "execution_count": 12,
   "id": "3b755ab8-2e8d-4d71-8e56-032721d03823",
   "metadata": {},
   "outputs": [
    {
     "data": {
      "text/html": [
       "\n",
       "            <div>\n",
       "                <p><b>SparkSession - in-memory</b></p>\n",
       "                \n",
       "        <div>\n",
       "            <p><b>SparkContext</b></p>\n",
       "\n",
       "            <p><a href=\"http://192.168.58.163:4041\">Spark UI</a></p>\n",
       "\n",
       "            <dl>\n",
       "              <dt>Version</dt>\n",
       "                <dd><code>v3.5.1</code></dd>\n",
       "              <dt>Master</dt>\n",
       "                <dd><code>local[*]</code></dd>\n",
       "              <dt>AppName</dt>\n",
       "                <dd><code>sales</code></dd>\n",
       "            </dl>\n",
       "        </div>\n",
       "        \n",
       "            </div>\n",
       "        "
      ],
      "text/plain": [
       "<pyspark.sql.session.SparkSession at 0x78c7b79c5810>"
      ]
     },
     "execution_count": 12,
     "metadata": {},
     "output_type": "execute_result"
    }
   ],
   "source": [
    "spark"
   ]
  },
  {
   "cell_type": "code",
   "execution_count": 25,
   "id": "f02bad98-9da7-4a27-8247-f488fbd1ed16",
   "metadata": {},
   "outputs": [],
   "source": [
    "dfspark =spark.read.csv(\"order_items.csv\",header =True ,inferSchema=True)"
   ]
  },
  {
   "cell_type": "code",
   "execution_count": 26,
   "id": "50c0b283-d223-495b-9ac4-8c411f9c49ae",
   "metadata": {},
   "outputs": [
    {
     "name": "stdout",
     "output_type": "stream",
     "text": [
      "+-----------+-------+---------+--------+------------+\n",
      "|OrderItemID|OrderID|ProductID|Quantity|PricePerUnit|\n",
      "+-----------+-------+---------+--------+------------+\n",
      "|       5001|   2001|     1001|       2|       10.99|\n",
      "|       5002|   2001|     1004|       1|       25.99|\n",
      "|       5003|   2002|     1003|       3|        8.99|\n",
      "|       5004|   2003|     1002|       1|       15.49|\n",
      "|       5005|   2003|     1005|       2|       12.99|\n",
      "|       5006|   2004|     1006|       1|      299.99|\n",
      "|       5007|   2004|     1007|       1|     1099.99|\n",
      "|       5008|   2005|     1008|       2|       89.99|\n",
      "|       5009|   2005|     1009|       1|       49.99|\n",
      "|       5010|   2006|     1010|       5|        5.99|\n",
      "|       5011|   2006|     1011|       2|       59.99|\n",
      "|       5012|   2007|     1012|       1|       39.99|\n",
      "|       5013|   2007|     1013|       1|      199.99|\n",
      "|       5014|   2008|     1014|       3|       14.99|\n",
      "|       5015|   2008|     1015|       1|       29.99|\n",
      "|       5016|   2009|     1016|       2|      129.99|\n",
      "|       5017|   2009|     1017|       1|       24.99|\n",
      "|       5018|   2010|     1018|       1|       79.99|\n",
      "+-----------+-------+---------+--------+------------+\n",
      "\n"
     ]
    }
   ],
   "source": [
    "dfspark.show()"
   ]
  },
  {
   "cell_type": "code",
   "execution_count": 23,
   "id": "db43966b-562d-406e-9dad-ea11ac124cfb",
   "metadata": {},
   "outputs": [],
   "source": [
    "dfspark1 =spark.read.csv(\"products.csv\",header =True,inferSchema=True)"
   ]
  },
  {
   "cell_type": "code",
   "execution_count": 24,
   "id": "4b76a614-c22d-4545-8b87-92d004365d9d",
   "metadata": {},
   "outputs": [
    {
     "name": "stdout",
     "output_type": "stream",
     "text": [
      "+---------+--------------------+--------------------+-------+-----------+\n",
      "|ProductID|                Name|         Description|  Price|   Category|\n",
      "+---------+--------------------+--------------------+-------+-----------+\n",
      "|     1001|            Widget A|High-quality widg...|  10.99|    Widgets|\n",
      "|     1002|          Gadget Pro|Advanced gadget w...|  15.49|    Gadgets|\n",
      "|     1003|            Widget B|Economical widget...|   8.99|    Widgets|\n",
      "|     1004|           Toolset X|Comprehensive too...|  25.99|      Tools|\n",
      "|     1005|        Gadget Basic|Basic version of ...|  12.99|    Gadgets|\n",
      "|     1006|    Smartphone Alpha|Latest model of o...| 299.99|Electronics|\n",
      "|     1007|          Laptop Pro|High-performance ...|1099.99|Electronics|\n",
      "|     1008|Bluetooth Headphones|Wireless headphon...|  89.99|Electronics|\n",
      "|     1009|      Electric Drill|Powerful and reli...|  49.99|      Tools|\n",
      "|     1010|       LED Lightbulb|Energy-efficient ...|   5.99|       Home|\n",
      "|     1011|       Running Shoes|Comfortable and d...|  59.99|    Fashion|\n",
      "|     1012|   Backpack Explorer|Spacious and rugg...|  39.99|    Fashion|\n",
      "|     1013|   Smartwatch Health|Smartwatch with h...| 199.99|Electronics|\n",
      "|     1014|        Water Bottle|Insulated water b...|  14.99|     Sports|\n",
      "|     1015|            Yoga Mat|Eco-friendly yoga...|  29.99|     Sports|\n",
      "|     1016|   Bookshelf Speaker|Compact bookshelf...| 129.99|Electronics|\n",
      "|     1017|          Table Lamp|Modern design tab...|  24.99|       Home|\n",
      "|     1018|        Coffee Maker|Automatic coffee ...|  79.99|    Kitchen|\n",
      "|     1019|      Desk Organizer|Wooden desk organ...|  18.99|     Office|\n",
      "|     1020|          Wall Clock|  Stylish wall clock|  34.99|       Home|\n",
      "+---------+--------------------+--------------------+-------+-----------+\n",
      "\n"
     ]
    }
   ],
   "source": [
    "dfspark1.show()"
   ]
  },
  {
   "cell_type": "code",
   "execution_count": 27,
   "id": "e9dbabfc-73a3-490f-89c6-3cc6c1a8af19",
   "metadata": {},
   "outputs": [
    {
     "name": "stdout",
     "output_type": "stream",
     "text": [
      "root\n",
      " |-- OrderItemID: integer (nullable = true)\n",
      " |-- OrderID: integer (nullable = true)\n",
      " |-- ProductID: integer (nullable = true)\n",
      " |-- Quantity: integer (nullable = true)\n",
      " |-- PricePerUnit: double (nullable = true)\n",
      "\n"
     ]
    }
   ],
   "source": [
    "dfspark.printSchema()"
   ]
  },
  {
   "cell_type": "code",
   "execution_count": 28,
   "id": "f7854941-0823-492e-93c8-60d20ae25a98",
   "metadata": {},
   "outputs": [
    {
     "name": "stdout",
     "output_type": "stream",
     "text": [
      "root\n",
      " |-- ProductID: integer (nullable = true)\n",
      " |-- Name: string (nullable = true)\n",
      " |-- Description: string (nullable = true)\n",
      " |-- Price: double (nullable = true)\n",
      " |-- Category: string (nullable = true)\n",
      "\n"
     ]
    }
   ],
   "source": [
    "dfspark1.printSchema()"
   ]
  },
  {
   "cell_type": "code",
   "execution_count": 29,
   "id": "abf20356-fd77-48e0-b0ab-29eb06a693b3",
   "metadata": {},
   "outputs": [
    {
     "data": {
      "text/plain": [
       "['OrderItemID', 'OrderID', 'ProductID', 'Quantity', 'PricePerUnit']"
      ]
     },
     "execution_count": 29,
     "metadata": {},
     "output_type": "execute_result"
    }
   ],
   "source": [
    "dfspark.columns"
   ]
  },
  {
   "cell_type": "code",
   "execution_count": 31,
   "id": "cfbaf9e8-c723-4f59-832b-5cb220035c41",
   "metadata": {},
   "outputs": [
    {
     "data": {
      "text/plain": [
       "['ProductID', 'Name', 'Description', 'Price', 'Category']"
      ]
     },
     "execution_count": 31,
     "metadata": {},
     "output_type": "execute_result"
    }
   ],
   "source": [
    "dfspark1.columns"
   ]
  },
  {
   "cell_type": "code",
   "execution_count": 34,
   "id": "07a74327-9f0a-4d35-b2e6-83dba08222f6",
   "metadata": {},
   "outputs": [
    {
     "name": "stderr",
     "output_type": "stream",
     "text": [
      "24/06/30 07:09:48 WARN SparkStringUtils: Truncated the string representation of a plan since it was too large. This behavior can be adjusted by setting 'spark.sql.debug.maxToStringFields'.\n"
     ]
    },
    {
     "name": "stdout",
     "output_type": "stream",
     "text": [
      "+-------+-----------------+------------------+-----------------+------------------+------------------+\n",
      "|summary|      OrderItemID|           OrderID|        ProductID|          Quantity|      PricePerUnit|\n",
      "+-------+-----------------+------------------+-----------------+------------------+------------------+\n",
      "|  count|               18|                18|               18|                18|                18|\n",
      "|   mean|           5009.5|2005.4444444444443|           1009.5|1.7222222222222223|122.23999999999998|\n",
      "| stddev|5.338539126015656| 2.791209356748872|5.338539126015656|1.0740552924509195|255.89084586987474|\n",
      "|    min|             5001|              2001|             1001|                 1|              5.99|\n",
      "|    max|             5018|              2010|             1018|                 5|           1099.99|\n",
      "+-------+-----------------+------------------+-----------------+------------------+------------------+\n",
      "\n"
     ]
    }
   ],
   "source": [
    "dfspark.describe().show()"
   ]
  },
  {
   "cell_type": "code",
   "execution_count": 35,
   "id": "cf6d64dd-7656-4b08-86d2-19a6d1cc6de3",
   "metadata": {},
   "outputs": [
    {
     "name": "stdout",
     "output_type": "stream",
     "text": [
      "+-------+-----------------+-----------------+--------------------+------------------+-----------+\n",
      "|summary|        ProductID|             Name|         Description|             Price|   Category|\n",
      "+-------+-----------------+-----------------+--------------------+------------------+-----------+\n",
      "|  count|               20|               20|                  20|                20|         20|\n",
      "|   mean|           1010.5|             NULL|                NULL|112.71499999999996|       NULL|\n",
      "| stddev|5.916079783099616|             NULL|                NULL|243.83134135364097|       NULL|\n",
      "|    min|             1001|Backpack Explorer|Advanced gadget w...|              5.99|Electronics|\n",
      "|    max|             1020|         Yoga Mat|Wooden desk organ...|           1099.99|    Widgets|\n",
      "+-------+-----------------+-----------------+--------------------+------------------+-----------+\n",
      "\n"
     ]
    }
   ],
   "source": [
    "dfspark1.describe().show()"
   ]
  },
  {
   "cell_type": "code",
   "execution_count": 51,
   "id": "c0b6b75f-99ad-4a10-8f1f-86255c715613",
   "metadata": {},
   "outputs": [
    {
     "name": "stdout",
     "output_type": "stream",
     "text": [
      "+-----------+-----------+-----------+\n",
      "|   Category|Total_sales|TotalOrders|\n",
      "+-----------+-----------+-----------+\n",
      "|Electronics|    2039.93|          5|\n",
      "|    Fashion|     159.97|          2|\n",
      "|    Kitchen|      79.99|          1|\n",
      "|      Tools|      75.98|          2|\n",
      "|     Sports|      74.96|          2|\n",
      "|       Home|      54.94|          2|\n",
      "|    Widgets|      48.95|          2|\n",
      "|    Gadgets|      41.47|          2|\n",
      "|     Office|       NULL|          0|\n",
      "+-----------+-----------+-----------+\n",
      "\n"
     ]
    }
   ],
   "source": [
    "# Join using the left join since we might have columns in one column and lack in the other\n",
    "query = \"\"\"\n",
    "    SELECT p.Category, \n",
    "           SUM(oi.Quantity * p.Price) AS Total_sales, \n",
    "           COUNT(oi.OrderID) AS TotalOrders\n",
    "    FROM products p\n",
    "    LEFT JOIN order_items oi ON oi.ProductID = p.ProductID\n",
    "    GROUP BY p.Category\n",
    "    ORDER BY Total_sales DESC\n",
    "\"\"\"\n",
    "\n",
    "\n",
    "result_df = spark.sql(query)\n",
    "\n",
    "\n",
    "result_df.show()\n"
   ]
  },
  {
   "cell_type": "code",
   "execution_count": null,
   "id": "23860d33-b4fb-4ff3-899d-541c4cd4dcd5",
   "metadata": {},
   "outputs": [],
   "source": []
  },
  {
   "cell_type": "code",
   "execution_count": null,
   "id": "8cc080fb-996b-4ee9-a713-c42bada67c69",
   "metadata": {},
   "outputs": [],
   "source": []
  },
  {
   "cell_type": "code",
   "execution_count": null,
   "id": "bb57198a-5bb5-4823-b103-dea81be791c2",
   "metadata": {},
   "outputs": [],
   "source": []
  }
 ],
 "metadata": {
  "kernelspec": {
   "display_name": "Python 3 (ipykernel)",
   "language": "python",
   "name": "python3"
  },
  "language_info": {
   "codemirror_mode": {
    "name": "ipython",
    "version": 3
   },
   "file_extension": ".py",
   "mimetype": "text/x-python",
   "name": "python",
   "nbconvert_exporter": "python",
   "pygments_lexer": "ipython3",
   "version": "3.11.7"
  }
 },
 "nbformat": 4,
 "nbformat_minor": 5
}
